{
 "cells": [
  {
   "cell_type": "markdown",
   "metadata": {},
   "source": [
    "## Overview   \n",
    "\n",
    "#### There are 7 .csv files, as listed below:\n",
    "1. gender_age_train.csv  \n",
    "2. gender_age_test.csv  \n",
    "3. phone_brand_device_model.csv  \n",
    "4. events.csv  \n",
    "5. app_events.csv  \n",
    "6. app_label.csv  \n",
    "7. label_categories.csv  \n",
    "\n",
    "#### This notebook explores these different datasets and tries to answer the following questions:    \n",
    "1. What do the distributions of the users' gener and age look like?  \n",
    "2. What are the popular phone brand and model?  \n",
    "3. What is the relationship between gender/age and phone properties(phone brand/device model)?  \n",
    "4. What do the users' geolocations look like?\n",
    "5. What is the relationship between gender/age and their app events (e.g., number of events, number of installed apps, number \\of active apps, the nature of category of apps?  \n",
    "6. What kind of features can we use to build machine learning algorithms to predict gender and age group?"
   ]
  },
  {
   "cell_type": "code",
   "execution_count": 1,
   "metadata": {
    "collapsed": true
   },
   "outputs": [],
   "source": [
    "import numpy as np\n",
    "import pandas as pd\n",
    "\n",
    "import matplotlib as mpl\n",
    "import matplotlib.pyplot as plt\n",
    "import seaborn as sns\n",
    "%matplotlib inline\n",
    "sns.set_style('whitegrid')"
   ]
  },
  {
   "cell_type": "markdown",
   "metadata": {},
   "source": [
    "### 1. Gender/Age Information"
   ]
  },
  {
   "cell_type": "code",
   "execution_count": 2,
   "metadata": {
    "collapsed": false
   },
   "outputs": [
    {
     "name": "stdout",
     "output_type": "stream",
     "text": [
      "(74645, 4)\n"
     ]
    },
    {
     "data": {
      "text/html": [
       "<div>\n",
       "<table border=\"1\" class=\"dataframe\">\n",
       "  <thead>\n",
       "    <tr style=\"text-align: right;\">\n",
       "      <th></th>\n",
       "      <th>device_id</th>\n",
       "      <th>gender</th>\n",
       "      <th>age</th>\n",
       "      <th>group</th>\n",
       "    </tr>\n",
       "  </thead>\n",
       "  <tbody>\n",
       "    <tr>\n",
       "      <th>0</th>\n",
       "      <td>-8076087639492063270</td>\n",
       "      <td>M</td>\n",
       "      <td>35</td>\n",
       "      <td>M32-38</td>\n",
       "    </tr>\n",
       "    <tr>\n",
       "      <th>1</th>\n",
       "      <td>-2897161552818060146</td>\n",
       "      <td>M</td>\n",
       "      <td>35</td>\n",
       "      <td>M32-38</td>\n",
       "    </tr>\n",
       "    <tr>\n",
       "      <th>2</th>\n",
       "      <td>-8260683887967679142</td>\n",
       "      <td>M</td>\n",
       "      <td>35</td>\n",
       "      <td>M32-38</td>\n",
       "    </tr>\n",
       "  </tbody>\n",
       "</table>\n",
       "</div>"
      ],
      "text/plain": [
       "              device_id gender  age   group\n",
       "0  -8076087639492063270      M   35  M32-38\n",
       "1  -2897161552818060146      M   35  M32-38\n",
       "2  -8260683887967679142      M   35  M32-38"
      ]
     },
     "execution_count": 2,
     "metadata": {},
     "output_type": "execute_result"
    }
   ],
   "source": [
    "# get data\n",
    "ga_train = pd.read_csv('gender_age_train.csv', dtype = {'device_id': np.str})\n",
    "print ga_train.shape\n",
    "ga_train.head(3)"
   ]
  },
  {
   "cell_type": "code",
   "execution_count": 4,
   "metadata": {
    "collapsed": false
   },
   "outputs": [
    {
     "name": "stdout",
     "output_type": "stream",
     "text": [
      "Number of duplicated rows: 0\n",
      "Number of null values in the dataframe: device_id    0\n",
      "gender       0\n",
      "age          0\n",
      "group        0\n",
      "dtype: int64\n"
     ]
    }
   ],
   "source": [
    "# any duplicates? any null values?\n",
    "print('Number of duplicated rows: {}'.format(ga_train.device_id.nunique() - ga_train.shape[0]))\n",
    "print('Number of null values in the dataframe: {}' .format(pd.isnull(ga_train).sum()))"
   ]
  },
  {
   "cell_type": "code",
   "execution_count": 5,
   "metadata": {
    "collapsed": false
   },
   "outputs": [
    {
     "name": "stdout",
     "output_type": "stream",
     "text": [
      "['M32-38' 'M29-31' 'F24-26' 'F33-42' 'F27-28' 'M39+' 'M23-26' 'M27-28'\n",
      " 'M22-' 'F43+' 'F23-' 'F29-32']\n"
     ]
    }
   ],
   "source": [
    "# what are the unique groups\n",
    "print ga_train.group.unique()"
   ]
  },
  {
   "cell_type": "markdown",
   "metadata": {},
   "source": [
    "#### Visualize the gender/age distribution"
   ]
  },
  {
   "cell_type": "code",
   "execution_count": 6,
   "metadata": {
    "collapsed": false
   },
   "outputs": [
    {
     "name": "stdout",
     "output_type": "stream",
     "text": [
      "M    47904\n",
      "F    26741\n",
      "Name: gender, dtype: int64\n"
     ]
    },
    {
     "data": {
      "image/png": "[encoded data removed]",
      "text/plain": [
       "<matplotlib.figure.Figure at 0x35ffc50>"
      ]
     },
     "metadata": {},
     "output_type": "display_data"
    }
   ],
   "source": [
    "# gender distribution\n",
    "mpl.rcParams['figure.figsize'] = (8.0, 6.0)\n",
    "\n",
    "sns.countplot(ga_train.gender)\n",
    "plt.title('Gender Distribution')\n",
    "\n",
    "print ga_train.gender.value_counts()"
   ]
  },
  {
   "cell_type": "code",
   "execution_count": 7,
   "metadata": {
    "collapsed": false
   },
   "outputs": [
    {
     "data": {
      "text/plain": [
       "<matplotlib.text.Text at 0xb58ef98>"
      ]
     },
     "execution_count": 7,
     "metadata": {},
     "output_type": "execute_result"
    },
    {
     "data": {
      "image/png": "[encoded data removed]",
      "text/plain": [
       "<matplotlib.figure.Figure at 0x3706da0>"
      ]
     },
     "metadata": {},
     "output_type": "display_data"
    }
   ],
   "source": [
    "# age distribution for all users\n",
    "ga_train['age'].plot(kind = 'hist', bins = 40)\n",
    "plt.xlabel('Age')\n",
    "plt.title('Age Distribution (Overall)')"
   ]
  },
  {
   "cell_type": "code",
   "execution_count": 8,
   "metadata": {
    "collapsed": false
   },
   "outputs": [
    {
     "data": {
      "text/plain": [
       "<matplotlib.collections.LineCollection at 0xbeec8d0>"
      ]
     },
     "execution_count": 8,
     "metadata": {},
     "output_type": "execute_result"
    },
    {
     "data": {
      "image/png": "[encoded data removed]",
      "text/plain": [
       "<matplotlib.figure.Figure at 0xb6eb2e8>"
      ]
     },
     "metadata": {},
     "output_type": "display_data"
    }
   ],
   "source": [
    "# age distribution by gender\n",
    "g = ga_train.groupby(['age', 'gender']).size().unstack().reindex(index = np.arange(0, 100)).fillna(0)\n",
    "ax1, ax2 = g.plot(kind = 'bar', subplots = True, figsize = (10, 8));\n",
    "ax1.vlines(np.array([23, 26, 28, 32, 42]), 0, 1800, linestyles = 'dashed', linewidth = 1.5, colors = 'r')\n",
    "ax2.vlines(np.array([22, 26, 28, 31, 38]), 0, 3000, linestyles = 'dashed', linewidth = 1.5, colors = 'r')"
   ]
  },
  {
   "cell_type": "code",
   "execution_count": 9,
   "metadata": {
    "collapsed": false
   },
   "outputs": [
    {
     "data": {
      "text/plain": [
       "<matplotlib.axes._subplots.AxesSubplot at 0xbde7c50>"
      ]
     },
     "execution_count": 9,
     "metadata": {},
     "output_type": "execute_result"
    },
    {
     "data": {
      "image/png": "[encoded data removed]",
      "text/plain": [
       "<matplotlib.figure.Figure at 0x9a7a2e8>"
      ]
     },
     "metadata": {},
     "output_type": "display_data"
    }
   ],
   "source": [
    "# user distribution by group\n",
    "g2 = ga_train.groupby(['group', 'gender']).size().unstack().fillna(0)\n",
    "g2.plot(kind = 'bar', width = 1.5)"
   ]
  },
  {
   "cell_type": "markdown",
   "metadata": {},
   "source": [
    "### 2. Phone Properties"
   ]
  },
  {
   "cell_type": "code",
   "execution_count": 10,
   "metadata": {
    "collapsed": false
   },
   "outputs": [
    {
     "name": "stdout",
     "output_type": "stream",
     "text": [
      "(187245, 3)\n"
     ]
    },
    {
     "data": {
      "text/html": [
       "<div>\n",
       "<table border=\"1\" class=\"dataframe\">\n",
       "  <thead>\n",
       "    <tr style=\"text-align: right;\">\n",
       "      <th></th>\n",
       "      <th>device_id</th>\n",
       "      <th>phone_brand</th>\n",
       "      <th>device_model</th>\n",
       "    </tr>\n",
       "  </thead>\n",
       "  <tbody>\n",
       "    <tr>\n",
       "      <th>0</th>\n",
       "      <td>-8890648629457979026</td>\n",
       "      <td>小米</td>\n",
       "      <td>红米</td>\n",
       "    </tr>\n",
       "    <tr>\n",
       "      <th>1</th>\n",
       "      <td>1277779817574759137</td>\n",
       "      <td>小米</td>\n",
       "      <td>MI 2</td>\n",
       "    </tr>\n",
       "    <tr>\n",
       "      <th>2</th>\n",
       "      <td>5137427614288105724</td>\n",
       "      <td>三星</td>\n",
       "      <td>Galaxy S4</td>\n",
       "    </tr>\n",
       "  </tbody>\n",
       "</table>\n",
       "</div>"
      ],
      "text/plain": [
       "              device_id phone_brand device_model\n",
       "0  -8890648629457979026          小米           红米\n",
       "1   1277779817574759137          小米         MI 2\n",
       "2   5137427614288105724          三星    Galaxy S4"
      ]
     },
     "execution_count": 10,
     "metadata": {},
     "output_type": "execute_result"
    }
   ],
   "source": [
    "# get data\n",
    "phone = pd.read_csv('phone_brand_device_model.csv', dtype = {'device_id': np.str})\n",
    "print phone.shape\n",
    "phone.head(3)"
   ]
  },
  {
   "cell_type": "code",
   "execution_count": 11,
   "metadata": {
    "collapsed": false
   },
   "outputs": [
    {
     "name": "stdout",
     "output_type": "stream",
     "text": [
      "Number of duplicates: 529\n",
      "Number of null values: device_id       0\n",
      "phone_brand     0\n",
      "device_model    0\n",
      "dtype: int64\n"
     ]
    }
   ],
   "source": [
    "# any duplicates? any null values?\n",
    "print('Number of duplicates: {}' .format(phone.shape[0] - phone.device_id.nunique()))\n",
    "print('Number of null values: {}' .format(pd.isnull(phone).sum()))"
   ]
  },
  {
   "cell_type": "code",
   "execution_count": 13,
   "metadata": {
    "collapsed": false
   },
   "outputs": [
    {
     "name": "stdout",
     "output_type": "stream",
     "text": [
      "Min number of time a duplicated device_id appears: 2\n",
      "Max number of time a duplicated device_id appears: 2\n"
     ]
    }
   ],
   "source": [
    "# look closely into the duplicates\n",
    "duplicate = phone.groupby(['device_id']).size()\n",
    "duplicate = duplicate[duplicate > 1]\n",
    "print('Min number of time a duplicated device_id appears: {}' .format(duplicate.min()))\n",
    "print('Max number of time a duplicated device_id appears: {}' .format(duplicate.max()))"
   ]
  },
  {
   "cell_type": "code",
   "execution_count": 14,
   "metadata": {
    "collapsed": false
   },
   "outputs": [
    {
     "name": "stdout",
     "output_type": "stream",
     "text": [
      "Number of duplicated device_ids with distinct brand or model: 6\n"
     ]
    }
   ],
   "source": [
    "# do these duplicated device_ids correspond to the same brand & model?\n",
    "duplicate = phone.loc[phone.device_id.isin(duplicate.index)]\n",
    "\n",
    "d1 = duplicate.groupby(['device_id']).first()\n",
    "d2 = duplicate.groupby(['device_id']).last()\n",
    "diff = (d1 != d2).sum(axis = 1).nonzero()\n",
    "\n",
    "print('Number of duplicated device_ids with distinct brand or model: {}'.format(len(diff[0])))"
   ]
  },
  {
   "cell_type": "code",
   "execution_count": 15,
   "metadata": {
    "collapsed": false
   },
   "outputs": [
    {
     "data": {
      "text/html": [
       "<div>\n",
       "<table border=\"1\" class=\"dataframe\">\n",
       "  <thead>\n",
       "    <tr style=\"text-align: right;\">\n",
       "      <th></th>\n",
       "      <th>phone_brand</th>\n",
       "      <th>device_model</th>\n",
       "      <th>phone_brand</th>\n",
       "      <th>device_model</th>\n",
       "    </tr>\n",
       "    <tr>\n",
       "      <th>device_id</th>\n",
       "      <th></th>\n",
       "      <th></th>\n",
       "      <th></th>\n",
       "      <th></th>\n",
       "    </tr>\n",
       "  </thead>\n",
       "  <tbody>\n",
       "    <tr>\n",
       "      <th>-3004353610608679970</th>\n",
       "      <td>酷派</td>\n",
       "      <td>5891</td>\n",
       "      <td>酷派</td>\n",
       "      <td>7296</td>\n",
       "    </tr>\n",
       "    <tr>\n",
       "      <th>-5269721363279128080</th>\n",
       "      <td>三星</td>\n",
       "      <td>Galaxy Core Advance</td>\n",
       "      <td>小米</td>\n",
       "      <td>MI 3</td>\n",
       "    </tr>\n",
       "    <tr>\n",
       "      <th>-6590454305031525112</th>\n",
       "      <td>小米</td>\n",
       "      <td>MI 3</td>\n",
       "      <td>华为</td>\n",
       "      <td>荣耀6 Plus</td>\n",
       "    </tr>\n",
       "    <tr>\n",
       "      <th>-7059081542575379359</th>\n",
       "      <td>LG</td>\n",
       "      <td>Nexus 5</td>\n",
       "      <td>魅族</td>\n",
       "      <td>魅蓝Note 2</td>\n",
       "    </tr>\n",
       "    <tr>\n",
       "      <th>-7297178577997113203</th>\n",
       "      <td>华为</td>\n",
       "      <td>荣耀畅玩5X</td>\n",
       "      <td>华为</td>\n",
       "      <td>荣耀3C</td>\n",
       "    </tr>\n",
       "    <tr>\n",
       "      <th>5245428108336915020</th>\n",
       "      <td>魅族</td>\n",
       "      <td>MX4</td>\n",
       "      <td>小米</td>\n",
       "      <td>MI One Plus</td>\n",
       "    </tr>\n",
       "  </tbody>\n",
       "</table>\n",
       "</div>"
      ],
      "text/plain": [
       "                     phone_brand         device_model phone_brand device_model\n",
       "device_id                                                                     \n",
       "-3004353610608679970          酷派                 5891          酷派         7296\n",
       "-5269721363279128080          三星  Galaxy Core Advance          小米         MI 3\n",
       "-6590454305031525112          小米                 MI 3          华为     荣耀6 Plus\n",
       "-7059081542575379359          LG              Nexus 5          魅族     魅蓝Note 2\n",
       "-7297178577997113203          华为               荣耀畅玩5X          华为         荣耀3C\n",
       "5245428108336915020           魅族                  MX4          小米  MI One Plus"
      ]
     },
     "execution_count": 15,
     "metadata": {},
     "output_type": "execute_result"
    }
   ],
   "source": [
    "# what are these device_ids\n",
    "pd.concat((d1.iloc[diff], d2.iloc[diff]), axis = 1)"
   ]
  },
  {
   "cell_type": "code",
   "execution_count": 16,
   "metadata": {
    "collapsed": false
   },
   "outputs": [
    {
     "name": "stdout",
     "output_type": "stream",
     "text": [
      "(186716, 3)\n"
     ]
    }
   ],
   "source": [
    "# only 6 of the duplicated device_ids actually correspond to different brand or model\n",
    "# so just simply drop all duplicated device_ids \n",
    "\n",
    "phone = phone.drop_duplicates('device_id', keep = 'first')\n",
    "print phone.shape"
   ]
  },
  {
   "cell_type": "markdown",
   "metadata": {},
   "source": [
    "#### Look into the brand and model"
   ]
  },
  {
   "cell_type": "code",
   "execution_count": 17,
   "metadata": {
    "collapsed": false
   },
   "outputs": [
    {
     "name": "stdout",
     "output_type": "stream",
     "text": [
      "Number of distinct brand: 131\n",
      "Number of distinct model: 1599\n"
     ]
    }
   ],
   "source": [
    "# distinct brand and distinct model\n",
    "print('Number of distinct brand: {}' .format(phone.phone_brand.nunique()))\n",
    "print('Number of distinct model: {}' .format(phone.device_model.nunique()))"
   ]
  },
  {
   "cell_type": "code",
   "execution_count": 33,
   "metadata": {
    "collapsed": false,
    "scrolled": true
   },
   "outputs": [
    {
     "data": {
      "text/plain": [
       "小米      43107\n",
       "三星      34191\n",
       "华为      32465\n",
       "vivo    14342\n",
       "OPPO    14239\n",
       "魅族      11816\n",
       "酷派       8382\n",
       "联想       6752\n",
       "金立       2763\n",
       "Name: phone_brand, dtype: int64"
      ]
     },
     "execution_count": 33,
     "metadata": {},
     "output_type": "execute_result"
    }
   ],
   "source": [
    "# what are the popular brands\n",
    "brand_popular = phone.phone_brand.value_counts()\n",
    "brand_popular.sort_values(ascending = False, inplace = True)\n",
    "brand_popular[0 : 9]"
   ]
  },
  {
   "cell_type": "code",
   "execution_count": 35,
   "metadata": {
    "collapsed": false,
    "scrolled": true
   },
   "outputs": [
    {
     "data": {
      "text/plain": [
       "<matplotlib.text.Text at 0xcfaf898>"
      ]
     },
     "execution_count": 35,
     "metadata": {},
     "output_type": "execute_result"
    },
    {
     "data": {
      "image/png": "[encoded data removed]",
      "text/plain": [
       "<matplotlib.figure.Figure at 0x106d5518>"
      ]
     },
     "metadata": {},
     "output_type": "display_data"
    }
   ],
   "source": [
    "brand_popular[0 : 9].plot(kind = 'bar')\n",
    "plt.title('Top 10 Popular Phone Brand')"
   ]
  },
  {
   "cell_type": "code",
   "execution_count": 40,
   "metadata": {
    "collapsed": false
   },
   "outputs": [
    {
     "name": "stdout",
     "output_type": "stream",
     "text": [
      "Number of devices models belonging to more than one brand: 54\n"
     ]
    }
   ],
   "source": [
    "# is there any model that belongs to different brand?\n",
    "g_model = phone.groupby(['device_model'])['phone_brand'].apply(pd.Series.nunique)\n",
    "g_model = g_model[g_model >1]\n",
    "print('Number of devices models belonging to more than one brand: {}' .format(len(g_model)))"
   ]
  },
  {
   "cell_type": "code",
   "execution_count": 41,
   "metadata": {
    "collapsed": true
   },
   "outputs": [],
   "source": [
    "# code these brands and models\n",
    "def code(table, f):\n",
    "    mapping = {}\n",
    "    label = sorted(table[f].unique())\n",
    "    for i in range(len(label)):\n",
    "        mapping[label[i]] = i\n",
    "    table = table.replace({f: mapping})\n",
    "    return table"
   ]
  },
  {
   "cell_type": "code",
   "execution_count": 42,
   "metadata": {
    "collapsed": false
   },
   "outputs": [
    {
     "data": {
      "text/html": [
       "<div>\n",
       "<table border=\"1\" class=\"dataframe\">\n",
       "  <thead>\n",
       "    <tr style=\"text-align: right;\">\n",
       "      <th></th>\n",
       "      <th>device_id</th>\n",
       "      <th>phone_brand</th>\n",
       "      <th>device_model</th>\n",
       "    </tr>\n",
       "  </thead>\n",
       "  <tbody>\n",
       "    <tr>\n",
       "      <th>0</th>\n",
       "      <td>-8890648629457979026</td>\n",
       "      <td>51</td>\n",
       "      <td>1517</td>\n",
       "    </tr>\n",
       "    <tr>\n",
       "      <th>1</th>\n",
       "      <td>1277779817574759137</td>\n",
       "      <td>51</td>\n",
       "      <td>749</td>\n",
       "    </tr>\n",
       "    <tr>\n",
       "      <th>2</th>\n",
       "      <td>5137427614288105724</td>\n",
       "      <td>15</td>\n",
       "      <td>560</td>\n",
       "    </tr>\n",
       "    <tr>\n",
       "      <th>3</th>\n",
       "      <td>3669464369358936369</td>\n",
       "      <td>9</td>\n",
       "      <td>1503</td>\n",
       "    </tr>\n",
       "    <tr>\n",
       "      <th>4</th>\n",
       "      <td>-5019277647504317457</td>\n",
       "      <td>15</td>\n",
       "      <td>536</td>\n",
       "    </tr>\n",
       "  </tbody>\n",
       "</table>\n",
       "</div>"
      ],
      "text/plain": [
       "              device_id  phone_brand  device_model\n",
       "0  -8890648629457979026           51          1517\n",
       "1   1277779817574759137           51           749\n",
       "2   5137427614288105724           15           560\n",
       "3   3669464369358936369            9          1503\n",
       "4  -5019277647504317457           15           536"
      ]
     },
     "execution_count": 42,
     "metadata": {},
     "output_type": "execute_result"
    }
   ],
   "source": [
    "phone = code(phone, 'phone_brand')\n",
    "phone = code(phone, 'device_model')\n",
    "phone.head()"
   ]
  },
  {
   "cell_type": "code",
   "execution_count": null,
   "metadata": {
    "collapsed": true
   },
   "outputs": [],
   "source": []
  }
 ],
 "metadata": {
  "kernelspec": {
   "display_name": "Python 2",
   "language": "python",
   "name": "python2"
  },
  "language_info": {
   "codemirror_mode": {
    "name": "ipython",
    "version": 2
   },
   "file_extension": ".py",
   "mimetype": "text/x-python",
   "name": "python",
   "nbconvert_exporter": "python",
   "pygments_lexer": "ipython2",
   "version": "2.7.12"
  }
 },
 "nbformat": 4,
 "nbformat_minor": 0
}
